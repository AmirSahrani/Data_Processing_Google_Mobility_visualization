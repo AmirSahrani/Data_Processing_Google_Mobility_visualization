{
 "cells": [
  {
   "cell_type": "code",
   "execution_count": 1,
   "metadata": {},
   "outputs": [],
   "source": [
    "import pandas as pd\n",
    "import plotly.express as px\n",
    "from sqlalchemy import create_engine # database connection\n",
    "import datetime as dt\n",
    "from IPython.display import display\n",
    "from numpy import NaN"
   ]
  },
  {
   "cell_type": "markdown",
   "metadata": {},
   "source": [
    "Most of this workbook is code you can also find in app.py, this worbook was mainly a testing ground for new functions and creating the necessary files I need"
   ]
  },
  {
   "cell_type": "code",
   "execution_count": 7,
   "metadata": {},
   "outputs": [],
   "source": [
    "x = pd.read_csv(\"ISO 2 to 3.csv\")\n",
    "dx = pd.DataFrame(x, columns=[\"Country\",\"Alpha-2 code\",\"Alpha-3 code\"])\n",
    "dictISO = {}\n",
    "for x in dx.iterrows():\n",
    "    dictISO.update({x[1][\"Alpha-2 code\"].replace(\"\\\"\", \"\").replace(\" \", \"\"): x[1][\"Country\"].replace(\"\\\"\", \"\")})\n",
    "    \n",
    "f = pd.read_csv(\"GDP data.csv\", encoding= \"latin\")\n",
    "df = pd.DataFrame(f)\n",
    "dict2020 = {}\n",
    "dict2021 = {}\n",
    "dict2022 = {}\n",
    "for i in df.iterrows():\n",
    "    dict2020[i[1][\"Country\"]] =  i[1][\"2020\"]\n",
    "    dict2021[i[1][\"Country\"]] =  i[1][\"2021\"]\n",
    "    dict2022[i[1][\"Country\"]] =  i[1][\"2020.1\"]"
   ]
  },
  {
   "cell_type": "markdown",
   "metadata": {},
   "source": [
    "First I set up the sql file and then I add the csv data to it in chunks of 20k"
   ]
  },
  {
   "cell_type": "code",
   "execution_count": 60,
   "metadata": {},
   "outputs": [],
   "source": [
    "disk_engine = create_engine('sqlite:///311_8M.db')"
   ]
  },
  {
   "cell_type": "code",
   "execution_count": 101,
   "metadata": {},
   "outputs": [],
   "source": [
    "start = dt.datetime.now()\n",
    "chunksize = 20000\n",
    "j = 0\n",
    "index_start = 1\n",
    "\n",
    "for df in pd.read_csv('C:\\\\Users\\\\amisa\\\\Documents\\\\Python\\\\Final_Project.git\\\\2022_All_Countries_Region_Mobility_Report.csv', chunksize=chunksize, iterator=True, encoding='utf-8'):\n",
    "    \n",
    "    df = df.rename(columns={c: c.replace(' ', '') for c in df.columns}) # Remove spaces from columns\n",
    "\n",
    "    df['date'] = pd.to_datetime(df['date']) # Convert to datetimes\n",
    "    df[\"retail_and_recreation_percent_change_from_baseline\"]    = (df[\"retail_and_recreation_percent_change_from_baseline\"].fillna(method= \"ffill\")) + 100\n",
    "    df[\"grocery_and_pharmacy_percent_change_from_baseline\"]     = (df[\"grocery_and_pharmacy_percent_change_from_baseline\"].fillna(method= \"ffill\")) + 100\n",
    "    df[\"parks_percent_change_from_baseline\"]                    = (df[\"parks_percent_change_from_baseline\"].fillna(method= \"ffill\")) + 100\n",
    "    df[\"transit_stations_percent_change_from_baseline\"]         = (df[\"transit_stations_percent_change_from_baseline\"].fillna(method= \"ffill\")) + 100\n",
    "    df[\"workplaces_percent_change_from_baseline\"]               = (df[\"workplaces_percent_change_from_baseline\"].fillna(method= \"ffill\")) + 100\n",
    "    df[\"residential_percent_change_from_baseline\"]              = (df[\"residential_percent_change_from_baseline\"].fillna(method= \"ffill\")) + 100\n",
    "    df[\"Country\"]                                               = df[\"country_region_code\"].map(dictISO)\n",
    "    df.index += index_start\n",
    "\n",
    "    # Remove the un-interesting columns\n",
    "    columns = [\"Country\",\"date\",\"retail_and_recreation_percent_change_from_baseline\",\"grocery_and_pharmacy_percent_change_from_baseline\",\"parks_percent_change_from_baseline\",\"transit_stations_percent_change_from_baseline\",\"workplaces_percent_change_from_baseline\",\"residential_percent_change_from_baseline\"]\n",
    "\n",
    "    for c in df.columns:\n",
    "        if c not in columns:\n",
    "            df = df.drop(c, axis=1)    \n",
    "\n",
    "    \n",
    "    j+=1\n",
    "\n",
    "    df.to_sql('data', disk_engine, if_exists='append')\n",
    "    index_start = df.index[-1] + 1"
   ]
  },
  {
   "cell_type": "markdown",
   "metadata": {},
   "source": [
    "First getting all the country names in the SQL db and then turning those into a list"
   ]
  },
  {
   "cell_type": "code",
   "execution_count": 102,
   "metadata": {},
   "outputs": [],
   "source": [
    "names = pd.read_sql_query(\"SELECT DISTINCT(Country) from data\", disk_engine)"
   ]
  },
  {
   "cell_type": "code",
   "execution_count": 103,
   "metadata": {},
   "outputs": [],
   "source": [
    "contained_names = []\n",
    "for x in names.iterrows():\n",
    "    contained_names.append(x[1][\"Country\"])"
   ]
  },
  {
   "cell_type": "markdown",
   "metadata": {},
   "source": [
    "I sample the fist thousand entiries for each country, and get the average for each day, but even after that I realized there is just too much data to make this run smoothly, so instead of take the average for every day, I decided to take the average per week, leaving me with roughly 52 data points per country."
   ]
  },
  {
   "cell_type": "code",
   "execution_count": 104,
   "metadata": {},
   "outputs": [],
   "source": [
    "Samples = pd.DataFrame()\n",
    "for x in contained_names:\n",
    "    i = pd.read_sql_query(f\"SELECT Country,date, AVG(retail_and_recreation_percent_change_from_baseline),AVG(grocery_and_pharmacy_percent_change_from_baseline),AVG(parks_percent_change_from_baseline),AVG(transit_stations_percent_change_from_baseline),AVG(workplaces_percent_change_from_baseline),AVG(residential_percent_change_from_baseline) from data where Country == \\\"{x}\\\" GROUP BY date LIMIT 1000\", disk_engine)\n",
    "    Samples = pd.concat([Samples,i])"
   ]
  },
  {
   "cell_type": "code",
   "execution_count": 13,
   "metadata": {},
   "outputs": [
    {
     "data": {
      "text/html": [
       "<div>\n",
       "<style scoped>\n",
       "    .dataframe tbody tr th:only-of-type {\n",
       "        vertical-align: middle;\n",
       "    }\n",
       "\n",
       "    .dataframe tbody tr th {\n",
       "        vertical-align: top;\n",
       "    }\n",
       "\n",
       "    .dataframe thead th {\n",
       "        text-align: right;\n",
       "    }\n",
       "</style>\n",
       "<table border=\"1\" class=\"dataframe\">\n",
       "  <thead>\n",
       "    <tr style=\"text-align: right;\">\n",
       "      <th></th>\n",
       "      <th>Country</th>\n",
       "      <th>date</th>\n",
       "      <th>AVG(retail_and_recreation_percent_change_from_baseline)</th>\n",
       "      <th>GDP 2020</th>\n",
       "      <th>GDP 2021</th>\n",
       "      <th>GDP 2022</th>\n",
       "    </tr>\n",
       "  </thead>\n",
       "  <tbody>\n",
       "    <tr>\n",
       "      <th>0</th>\n",
       "      <td>Afghanistan</td>\n",
       "      <td>2020-02-16</td>\n",
       "      <td>95.250000</td>\n",
       "      <td>611.27</td>\n",
       "      <td>NaN</td>\n",
       "      <td>NaN</td>\n",
       "    </tr>\n",
       "    <tr>\n",
       "      <th>1</th>\n",
       "      <td>Afghanistan</td>\n",
       "      <td>2020-02-23</td>\n",
       "      <td>99.785714</td>\n",
       "      <td>611.27</td>\n",
       "      <td>NaN</td>\n",
       "      <td>NaN</td>\n",
       "    </tr>\n",
       "    <tr>\n",
       "      <th>2</th>\n",
       "      <td>Afghanistan</td>\n",
       "      <td>2020-03-01</td>\n",
       "      <td>99.285714</td>\n",
       "      <td>611.27</td>\n",
       "      <td>NaN</td>\n",
       "      <td>NaN</td>\n",
       "    </tr>\n",
       "    <tr>\n",
       "      <th>3</th>\n",
       "      <td>Afghanistan</td>\n",
       "      <td>2020-03-08</td>\n",
       "      <td>101.714286</td>\n",
       "      <td>611.27</td>\n",
       "      <td>NaN</td>\n",
       "      <td>NaN</td>\n",
       "    </tr>\n",
       "    <tr>\n",
       "      <th>4</th>\n",
       "      <td>Afghanistan</td>\n",
       "      <td>2020-03-15</td>\n",
       "      <td>99.000000</td>\n",
       "      <td>611.27</td>\n",
       "      <td>NaN</td>\n",
       "      <td>NaN</td>\n",
       "    </tr>\n",
       "    <tr>\n",
       "      <th>...</th>\n",
       "      <td>...</td>\n",
       "      <td>...</td>\n",
       "      <td>...</td>\n",
       "      <td>...</td>\n",
       "      <td>...</td>\n",
       "      <td>...</td>\n",
       "    </tr>\n",
       "    <tr>\n",
       "      <th>18697</th>\n",
       "      <td>Zimbabwe</td>\n",
       "      <td>2022-09-18</td>\n",
       "      <td>213.959868</td>\n",
       "      <td>1526.16</td>\n",
       "      <td>2121.57</td>\n",
       "      <td>2420.22</td>\n",
       "    </tr>\n",
       "    <tr>\n",
       "      <th>18698</th>\n",
       "      <td>Zimbabwe</td>\n",
       "      <td>2022-09-25</td>\n",
       "      <td>210.645519</td>\n",
       "      <td>1526.16</td>\n",
       "      <td>2121.57</td>\n",
       "      <td>2420.22</td>\n",
       "    </tr>\n",
       "    <tr>\n",
       "      <th>18699</th>\n",
       "      <td>Zimbabwe</td>\n",
       "      <td>2022-10-02</td>\n",
       "      <td>216.618222</td>\n",
       "      <td>1526.16</td>\n",
       "      <td>2121.57</td>\n",
       "      <td>2420.22</td>\n",
       "    </tr>\n",
       "    <tr>\n",
       "      <th>18700</th>\n",
       "      <td>Zimbabwe</td>\n",
       "      <td>2022-10-09</td>\n",
       "      <td>216.992101</td>\n",
       "      <td>1526.16</td>\n",
       "      <td>2121.57</td>\n",
       "      <td>2420.22</td>\n",
       "    </tr>\n",
       "    <tr>\n",
       "      <th>18701</th>\n",
       "      <td>Zimbabwe</td>\n",
       "      <td>2022-10-16</td>\n",
       "      <td>207.592865</td>\n",
       "      <td>1526.16</td>\n",
       "      <td>2121.57</td>\n",
       "      <td>2420.22</td>\n",
       "    </tr>\n",
       "  </tbody>\n",
       "</table>\n",
       "<p>18702 rows × 6 columns</p>\n",
       "</div>"
      ],
      "text/plain": [
       "           Country       date  \\\n",
       "0      Afghanistan 2020-02-16   \n",
       "1      Afghanistan 2020-02-23   \n",
       "2      Afghanistan 2020-03-01   \n",
       "3      Afghanistan 2020-03-08   \n",
       "4      Afghanistan 2020-03-15   \n",
       "...            ...        ...   \n",
       "18697     Zimbabwe 2022-09-18   \n",
       "18698     Zimbabwe 2022-09-25   \n",
       "18699     Zimbabwe 2022-10-02   \n",
       "18700     Zimbabwe 2022-10-09   \n",
       "18701     Zimbabwe 2022-10-16   \n",
       "\n",
       "       AVG(retail_and_recreation_percent_change_from_baseline)  GDP 2020  \\\n",
       "0                                              95.250000          611.27   \n",
       "1                                              99.785714          611.27   \n",
       "2                                              99.285714          611.27   \n",
       "3                                             101.714286          611.27   \n",
       "4                                              99.000000          611.27   \n",
       "...                                                  ...             ...   \n",
       "18697                                         213.959868         1526.16   \n",
       "18698                                         210.645519         1526.16   \n",
       "18699                                         216.618222         1526.16   \n",
       "18700                                         216.992101         1526.16   \n",
       "18701                                         207.592865         1526.16   \n",
       "\n",
       "       GDP 2021  GDP 2022  \n",
       "0           NaN       NaN  \n",
       "1           NaN       NaN  \n",
       "2           NaN       NaN  \n",
       "3           NaN       NaN  \n",
       "4           NaN       NaN  \n",
       "...         ...       ...  \n",
       "18697   2121.57   2420.22  \n",
       "18698   2121.57   2420.22  \n",
       "18699   2121.57   2420.22  \n",
       "18700   2121.57   2420.22  \n",
       "18701   2121.57   2420.22  \n",
       "\n",
       "[18702 rows x 6 columns]"
      ]
     },
     "execution_count": 13,
     "metadata": {},
     "output_type": "execute_result"
    }
   ],
   "source": [
    "\n",
    "Samples['date'] = pd.to_datetime(Samples['date'], )\n",
    "Final_df = Samples.groupby([\"Country\",pd.Grouper(freq=\"w\",key = \"date\")]).mean()[\"AVG(retail_and_recreation_percent_change_from_baseline)\"].reset_index()\n",
    "Final_df[\"GDP 2020\"]= Final_df[\"Country\"].map(dict2020)\n",
    "Final_df[\"GDP 2021\"]= Final_df[\"Country\"].map(dict2021)\n",
    "Final_df[\"GDP 2022\"]= Final_df[\"Country\"].map(dict2022)\n",
    "\n",
    "fig = px.scatter_geo(Final_df, locations=\"Country\", \n",
    "                     locationmode= \"country names\",\n",
    "                     hover_name=\"Country\", \n",
    "                     size=\"AVG(retail_and_recreation_percent_change_from_baseline)\",\n",
    "                     color = f\"GDP {2020}\",\n",
    "                     animation_frame=Final_df.date.astype(str),\n",
    "                     projection=\"natural earth\")\n",
    "fig.show()\n",
    "Final_df.to_parquet(\"Averages all categories\")\n"
   ]
  },
  {
   "cell_type": "markdown",
   "metadata": {},
   "source": []
  }
 ],
 "metadata": {
  "kernelspec": {
   "display_name": "Python 3.10.4 64-bit",
   "language": "python",
   "name": "python3"
  },
  "language_info": {
   "codemirror_mode": {
    "name": "ipython",
    "version": 3
   },
   "file_extension": ".py",
   "mimetype": "text/x-python",
   "name": "python",
   "nbconvert_exporter": "python",
   "pygments_lexer": "ipython3",
   "version": "3.10.4"
  },
  "orig_nbformat": 4,
  "vscode": {
   "interpreter": {
    "hash": "3d6c2a5ed63a7b8262a585c7d8a51c2575e7dc606b01ded3ffcdd65d619f40ed"
   }
  }
 },
 "nbformat": 4,
 "nbformat_minor": 2
}
